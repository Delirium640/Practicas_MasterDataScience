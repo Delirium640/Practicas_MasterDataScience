{
  "nbformat": 4,
  "nbformat_minor": 0,
  "metadata": {
    "colab": {
      "name": "Clase 5",
      "provenance": [],
      "collapsed_sections": []
    },
    "kernelspec": {
      "name": "python3",
      "display_name": "Python 3"
    },
    "language_info": {
      "name": "python"
    }
  },
  "cells": [
    {
      "cell_type": "code",
      "metadata": {
        "colab": {
          "base_uri": "https://localhost:8080/"
        },
        "id": "8r7TdK_pua5D",
        "outputId": "86879fd2-3924-4792-94e9-dafcc58b68d2"
      },
      "source": [
        "# Hay funciones que no devuelven nada\n",
        "a = print(\"a\")\n",
        "type(a)"
      ],
      "execution_count": 1,
      "outputs": [
        {
          "output_type": "stream",
          "name": "stdout",
          "text": [
            "a\n"
          ]
        },
        {
          "output_type": "execute_result",
          "data": {
            "text/plain": [
              "NoneType"
            ]
          },
          "metadata": {},
          "execution_count": 1
        }
      ]
    },
    {
      "cell_type": "code",
      "metadata": {
        "colab": {
          "base_uri": "https://localhost:8080/"
        },
        "id": "b8UAIfgHvcG2",
        "outputId": "e5deccc1-dda7-4c61-cb6b-01f466c1325e"
      },
      "source": [
        "# Y otras que sí...\n",
        "l = [1, 3, 5, 7]\n",
        "b = len(l)\n",
        "type(b)"
      ],
      "execution_count": 2,
      "outputs": [
        {
          "output_type": "execute_result",
          "data": {
            "text/plain": [
              "int"
            ]
          },
          "metadata": {},
          "execution_count": 2
        }
      ]
    },
    {
      "cell_type": "code",
      "metadata": {
        "colab": {
          "base_uri": "https://localhost:8080/"
        },
        "id": "Us-3-9ytvpBj",
        "outputId": "b2dbefd0-59f7-4a1f-cff1-2f27b476b4bd"
      },
      "source": [
        "# Función sin parámetro ni retorno\n",
        "def imprime_hola ():\n",
        "  print(\"Hola\")\n",
        "\n",
        "imprime_hola()\n",
        "imprime_hola()"
      ],
      "execution_count": 6,
      "outputs": [
        {
          "output_type": "stream",
          "name": "stdout",
          "text": [
            "Hola\n",
            "Hola\n"
          ]
        }
      ]
    },
    {
      "cell_type": "code",
      "metadata": {
        "colab": {
          "base_uri": "https://localhost:8080/"
        },
        "id": "aby8ALlRwgc8",
        "outputId": "a9be4d22-6cdc-4166-fd91-bb2f06b248b9"
      },
      "source": [
        "# Función con parámetros\n",
        "def suma3 (a, b, c):\n",
        "  print(\"a: \" + str(a))\n",
        "  print(\"b: \" + str(b))\n",
        "  print(\"c: \" + str(c))\n",
        "  print(a + b + c)\n",
        "  \n",
        "suma3(5, 2, 8)\n",
        "\n",
        "# Importante el ámbito (scope) de las variables\n",
        "print(\"a: \" + str(a))"
      ],
      "execution_count": 12,
      "outputs": [
        {
          "output_type": "stream",
          "name": "stdout",
          "text": [
            "a: 5\n",
            "b: 2\n",
            "c: 8\n",
            "15\n",
            "a: None\n"
          ]
        }
      ]
    },
    {
      "cell_type": "code",
      "metadata": {
        "colab": {
          "base_uri": "https://localhost:8080/"
        },
        "id": "HKEwubJXxN9G",
        "outputId": "51d6609f-a9fb-4f0b-a35c-e4694c163c68"
      },
      "source": [
        "def incr1 (a):\n",
        "  a = a + 1\n",
        "  print(a)\n",
        "\n",
        "a = 7\n",
        "incr1(a)\n",
        "\n",
        "print(a)"
      ],
      "execution_count": 13,
      "outputs": [
        {
          "output_type": "stream",
          "name": "stdout",
          "text": [
            "8\n",
            "7\n"
          ]
        }
      ]
    },
    {
      "cell_type": "code",
      "metadata": {
        "colab": {
          "base_uri": "https://localhost:8080/"
        },
        "id": "i2KNIO4syfDb",
        "outputId": "8a9e2c8c-9c60-4850-ac3a-0067342ff6e9"
      },
      "source": [
        "def manipula_lista (l):\n",
        "  l.append(4)\n",
        "\n",
        "l = [1, 2, 3]\n",
        "manipula_lista(l)\n",
        "print(l)"
      ],
      "execution_count": 15,
      "outputs": [
        {
          "output_type": "stream",
          "name": "stdout",
          "text": [
            "[1, 2, 3, 4]\n"
          ]
        }
      ]
    },
    {
      "cell_type": "code",
      "metadata": {
        "colab": {
          "base_uri": "https://localhost:8080/"
        },
        "id": "P3m1iaPxzDf1",
        "outputId": "31cd97a6-1de5-4340-b0f4-6623758cb06b"
      },
      "source": [
        "p = [9, 3, 6, 5, 8]\n",
        "pord = sorted(p)\n",
        "print(p)\n",
        "print(pord)"
      ],
      "execution_count": 17,
      "outputs": [
        {
          "output_type": "stream",
          "name": "stdout",
          "text": [
            "[9, 3, 6, 5, 8]\n",
            "[3, 5, 6, 8, 9]\n"
          ]
        }
      ]
    },
    {
      "cell_type": "code",
      "metadata": {
        "colab": {
          "base_uri": "https://localhost:8080/"
        },
        "id": "8NLcO8GGzjQg",
        "outputId": "99a61861-f746-4218-f44c-d4386a9336e2"
      },
      "source": [
        "l = [2, 5, 7]\n",
        "s = sum(l)\n",
        "print(s)"
      ],
      "execution_count": 18,
      "outputs": [
        {
          "output_type": "stream",
          "name": "stdout",
          "text": [
            "14\n"
          ]
        }
      ]
    },
    {
      "cell_type": "code",
      "metadata": {
        "colab": {
          "base_uri": "https://localhost:8080/"
        },
        "id": "eUMb7ucL0B7i",
        "outputId": "a95db55d-8261-47c0-ca1d-6c1dcdd2b591"
      },
      "source": [
        "def product (nums):\n",
        "  p = 1\n",
        "  for num in nums:\n",
        "    p = p * num\n",
        "  return p\n",
        "\n",
        "prod = product(l)\n",
        "print(prod)"
      ],
      "execution_count": 23,
      "outputs": [
        {
          "output_type": "stream",
          "name": "stdout",
          "text": [
            "70\n"
          ]
        }
      ]
    },
    {
      "cell_type": "code",
      "metadata": {
        "colab": {
          "base_uri": "https://localhost:8080/"
        },
        "id": "tOKDtN9y0I6p",
        "outputId": "1952c921-76ab-471a-f0aa-9811edab3767"
      },
      "source": [
        "# EJERCICIO 1\n",
        "def earlychar (s):\n",
        "  s = s.lower()\n",
        "  min_char = chr(1000)\n",
        "  min_ix = 0\n",
        "  for i in range(len(s)):\n",
        "    if s[i] < min_char:\n",
        "      min_char = s[i]\n",
        "      min_ix = i\n",
        "  return min_char, min_ix\n",
        "\n",
        "earlychar(\"holamundo\")"
      ],
      "execution_count": 63,
      "outputs": [
        {
          "output_type": "execute_result",
          "data": {
            "text/plain": [
              "('z', 0)"
            ]
          },
          "metadata": {},
          "execution_count": 63
        }
      ]
    },
    {
      "cell_type": "code",
      "metadata": {
        "colab": {
          "base_uri": "https://localhost:8080/"
        },
        "id": "zp7Lue604BuJ",
        "outputId": "16376715-b88f-4233-ea58-973479f026fb"
      },
      "source": [
        "# EJERCICIO 1\n",
        "def earlychar (s):\n",
        "  s = s.lower()\n",
        "  min_char = chr(1000)\n",
        "  min_ix = 0\n",
        "  ix = 0\n",
        "  for char in s:\n",
        "    if char < min_char:\n",
        "      min_char = char\n",
        "      min_ix = ix\n",
        "    ix += 1\n",
        "  return min_char, min_ix\n",
        "\n",
        "char, ix = earlychar(\"holamundo\")\n",
        "print(\"El carácter más pequeño es \" + char)"
      ],
      "execution_count": 2,
      "outputs": [
        {
          "output_type": "stream",
          "name": "stdout",
          "text": [
            "El carácter más pequeño es a\n"
          ]
        }
      ]
    },
    {
      "cell_type": "code",
      "metadata": {
        "colab": {
          "base_uri": "https://localhost:8080/"
        },
        "id": "et8bZZsr6OaW",
        "outputId": "b2e95781-9544-402d-eac0-549edb99fa06"
      },
      "source": [
        "s = \"hola\"\n",
        "len(s)\n",
        "list(range(len(s)))"
      ],
      "execution_count": 65,
      "outputs": [
        {
          "output_type": "execute_result",
          "data": {
            "text/plain": [
              "[0, 1, 2, 3]"
            ]
          },
          "metadata": {},
          "execution_count": 65
        }
      ]
    },
    {
      "cell_type": "code",
      "metadata": {
        "colab": {
          "base_uri": "https://localhost:8080/",
          "height": 35
        },
        "id": "X9Ml4HK77OH_",
        "outputId": "873c7367-8fa5-4bd4-fdce-bbf4a9b9e4d6"
      },
      "source": [
        "# EJERCICIO 2\n",
        "def sortstr (origs):\n",
        "  sorts = \"\"\n",
        "  while origs > '':\n",
        "    # Añadir la letra más pequeña a sorts\n",
        "    letrapeq, ixpeq = earlychar(origs)\n",
        "    sorts = sorts + letrapeq\n",
        "    # Eliminar la letra más pequeña de origs\n",
        "    origs = origs[:ixpeq] + origs[ixpeq+1:]\n",
        "  return sorts\n",
        "\n",
        "sortstr(\"holamundo\")"
      ],
      "execution_count": 10,
      "outputs": [
        {
          "output_type": "execute_result",
          "data": {
            "application/vnd.google.colaboratory.intrinsic+json": {
              "type": "string"
            },
            "text/plain": [
              "'adhlmnoou'"
            ]
          },
          "metadata": {},
          "execution_count": 10
        }
      ]
    },
    {
      "cell_type": "code",
      "metadata": {
        "id": "EMn2LOLJ7xU0"
      },
      "source": [
        "# \"holamundo\" -> \"\"\n",
        "# \"holmundo\" -> \"a\"\n",
        "# \"holmuno\" -> \"ad\"\n",
        "# ...\n",
        "# \"\" -> \"adhlmnoou\""
      ],
      "execution_count": 5,
      "outputs": []
    },
    {
      "cell_type": "code",
      "metadata": {
        "colab": {
          "base_uri": "https://localhost:8080/"
        },
        "id": "FjIz5-mH-1ik",
        "outputId": "aee8f6bb-de2d-4e19-e191-a5a5e00538fc"
      },
      "source": [
        "s = \"holamundo\"\n",
        "a = earlychar(s)\n",
        "letrapeq, ixpeq = a"
      ],
      "execution_count": 12,
      "outputs": [
        {
          "output_type": "stream",
          "name": "stdout",
          "text": [
            "<class 'tuple'>\n"
          ]
        }
      ]
    },
    {
      "cell_type": "code",
      "metadata": {
        "id": "wuJN0H2X_PiY"
      },
      "source": [
        ""
      ],
      "execution_count": null,
      "outputs": []
    }
  ]
}